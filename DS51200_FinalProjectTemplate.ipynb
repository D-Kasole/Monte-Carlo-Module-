{
 "cells": [
  {
   "cell_type": "markdown",
   "id": "45762487-d33f-486d-8e38-2cdea04e3528",
   "metadata": {},
   "source": [
    "# Final Project Report\n",
    "\n",
    "* Class: DS 5100\n",
    "* Student Name: Didier Kasole\n",
    "* Student Net ID: xbw8de@virginia.edu\n",
    "* This URL: a URL to the notebook source of this document"
   ]
  },
  {
   "cell_type": "markdown",
   "id": "acf756c1-ecaa-41dc-b6ca-d566eb94560b",
   "metadata": {},
   "source": [
    "# Instructions\n",
    "\n",
    "Follow the instructions in the Final Project isntructions notebook and put evidence of your work in this notebook.\n",
    "\n",
    "Total points for each subsection under **Deliverables** and **Scenarios** are given in parentheses.\n",
    "\n",
    "Breakdowns of points within subsections are specified within subsection instructions as bulleted lists.\n",
    "\n",
    "This project is worth **50 points**."
   ]
  },
  {
   "cell_type": "markdown",
   "id": "89dc7a32-f682-4402-8c1e-b6ccdb3e0e39",
   "metadata": {},
   "source": [
    "# Deliverables"
   ]
  },
  {
   "cell_type": "markdown",
   "id": "d32cb273-9a40-4909-a7ce-51f6e4958d3c",
   "metadata": {},
   "source": [
    "## The Monte Carlo Module (10)\n",
    "\n",
    "- URL included, appropriately named (1).\n",
    "- Includes all three specified classes (3).\n",
    "- Includes at least all 12 specified methods (6; .5 each)."
   ]
  },
  {
   "cell_type": "markdown",
   "id": "f5f3b070-de9e-4de9-bfae-8974d184aa28",
   "metadata": {},
   "source": [
    "Put the URL to your GitHub repo here.\n",
    "\n",
    "Repo URL: https://github.com/D-Kasole/Monte-Carlo-Module-"
   ]
  },
  {
   "cell_type": "markdown",
   "id": "162370fb-3729-4c85-b040-8c25b2c966d2",
   "metadata": {},
   "source": [
    "Paste a copyy of your module here.\n",
    "\n",
    "NOTE: Paste as text, not as code. Use triple backticks to wrap your code blocks."
   ]
  },
  {
   "cell_type": "raw",
   "id": "a2915d29-e895-4e00-bc6c-cf37f4ce13cd",
   "metadata": {},
   "source": [
    "```\n",
    "## montecarlo.py\n",
    "\n",
    "import pandas as pd\n",
    "import numpy as np\n",
    "\n",
    "class Die:\n",
    "\n",
    " def __init__(self, faces):\n",
    " \n",
    "         if not isinstance(faces, (list, np.ndarray)):\n",
    "            raise TypeError(\"Faces must be a list or numpy array.\")\n",
    "        self.die = pd.DataFrame({'face': faces, 'weight': 1.0})\n",
    "    \n",
    " def change_weight(self, face, new_weight):\n",
    " \n",
    "         if face not in self.die['face'].values:\n",
    "            raise ValueError(f\"Face {face} does not exist.\")\n",
    "        self.die.loc[self.die['face'] == face, 'weight'] = new_weight\n",
    "        \n",
    " def show_state(self):\n",
    " \n",
    "    return self.die\n",
    "    \n",
    " def roll(self, num_rolls=1):\n",
    "\n",
    "    outcomes = np.random.choice(\n",
    "            self.die['face'],\n",
    "            size=num_rolls,\n",
    "            p=self.die['weight'] / self.die['weight'].sum()\n",
    "        )\n",
    "        return outcomes\n",
    "\n",
    "class Game:\n",
    "\n",
    " def __init__(self, dice):\n",
    " \n",
    "        if not isinstance(dice, list):\n",
    "            raise TypeError(\"Dice must be a list of Die objects.\")\n",
    "        for die in dice:\n",
    "            if not isinstance(die, Die):\n",
    "                raise TypeError(\"All elements in the list must be Die objects.\")\n",
    "        self.dice = dice\n",
    "        self._results = None\n",
    " \n",
    " def play(self, num_rolls):\n",
    "\n",
    "    outcomes = {}\n",
    "        for i, die in enumerate(self.dice):\n",
    "            outcomes[i] = die.roll(num_rolls)\n",
    "        self._results = pd.DataFrame(outcomes)\n",
    "        self._results.index.name = 'roll_number'\n",
    "\n",
    " def show_results(self, form='wide'): \n",
    " \n",
    "         if self._results is None:\n",
    "            raise ValueError(\"No results available. Please play the game first.\")\n",
    "        if form == 'wide':\n",
    "            return self._results.copy()\n",
    "        elif form == 'narrow':\n",
    "            return self._results.melt(var_name='die_number', value_name='face_rolled', ignore_index=False)\n",
    "        else:\n",
    "            raise ValueError(\"Invalid form option. Use 'wide' or 'narrow'.\")\n",
    "\n",
    "class Analyzer:\n",
    "\n",
    " def __init__(self, game):\n",
    " \n",
    "         if not isinstance(game, Game):\n",
    "            raise TypeError(\"Input must be an instance of the Game class.\")\n",
    "        self.game = game\n",
    "        self.results = game.show_results()\n",
    "\n",
    " def jackpot(self):\n",
    " \n",
    "        return self.results[self.results.nunique(axis=1) == 1].shape[0]\n",
    "    \n",
    " def face_counts_per_roll(self):\n",
    " \n",
    "        return self.results.apply(lambda row: row.value_counts(), axis=1).fillna(0).astype(int)\n",
    "\n",
    " def combo(self):\n",
    " \n",
    "        combos = self.results.apply(lambda row: tuple(sorted(row)), axis=1)\n",
    "        return combos.value_counts().reset_index(name='count').rename(columns={'index': 'combination'})\n",
    "\n",
    " def permutation_count(self):\n",
    " \n",
    "         return self.results.apply(lambda row: row.value_counts(), axis=1).fillna(0).astype(int)\n",
    "```"
   ]
  },
  {
   "cell_type": "markdown",
   "id": "6377727a-8f0a-491e-9f1c-d9dc225edd35",
   "metadata": {},
   "source": [
    "## Unitest Module (2)\n",
    "\n",
    "Paste a copy of your test module below.\n",
    "\n",
    "NOTE: Paste as text, not as code. Use triple backticks to wrap your code blocks.\n",
    "\n",
    "- All methods have at least one test method (1).\n",
    "- Each method employs one of Unittest's Assert methods (1)."
   ]
  },
  {
   "cell_type": "raw",
   "id": "d73e2458-f994-4ec2-a22f-fad5a4a25446",
   "metadata": {},
   "source": [
    "```\n",
    "import unittest\n",
    "\n",
    "class TestDie(unittest.TestCase):\n",
    "    def test_change_weight(self):\n",
    "        die = Die([1, 2, 3])\n",
    "        die.change_weight(1, 5)\n",
    "        print(die.show_state()) \n",
    "        self.assertEqual(die.show_state().loc[0, 'weight'], 5)\n",
    "\n",
    "class TestGame(unittest.TestCase):\n",
    "    def test_play(self):\n",
    "        die1 = Die([1, 2, 3])\n",
    "        die2 = Die([1, 2, 3])\n",
    "        game = Game([die1, die2])\n",
    "        game.play(10)\n",
    "        self.assertEqual(len(game.show_results()), 10)\n",
    "\n",
    "class TesttAnalyzer(unittest.TestCase):\n",
    "    def test_jackpot(self):\n",
    "        die = Die([1, 2, 3])\n",
    "        game = Game([die])\n",
    "        game.play(5)\n",
    "        analyzer = Analyzer(game)\n",
    "        jackpot_count = analyzer.jackpot()\n",
    "        print(game.show_results()) \n",
    "        self.assertIsInstance(jackpot_count, int)\n",
    "\n",
    "if __name__ == '__main__':\n",
    "    unittest.main()\n",
    "```"
   ]
  },
  {
   "cell_type": "markdown",
   "id": "3e058d03-29bc-408f-b36d-0605b4f4b8c0",
   "metadata": {
    "tags": []
   },
   "source": [
    "## Unittest Results (3)\n",
    "\n",
    "Put a copy of the results of running your tests from the command line here.\n",
    "\n",
    "Again, paste as text using triple backticks.\n",
    "\n",
    "- All 12 specified methods return OK (3; .25 each)."
   ]
  },
  {
   "cell_type": "raw",
   "id": "54691fd0-836c-43c7-adc9-4a09d8aa9ab2",
   "metadata": {
    "tags": []
   },
   "source": [
    "   face  weight\n",
    "0     1     5.0\n",
    "1     2     1.0\n",
    "2     3     1.0\n",
    "..             0\n",
    "roll_number   \n",
    "0            2\n",
    "1            1\n",
    "2            3\n",
    "3            1\n",
    "4            3\n",
    ".\n",
    "----------------------------------------------------------------------\n",
    "Ran 3 tests in 0.009s\n",
    "\n",
    "OK"
   ]
  },
  {
   "cell_type": "markdown",
   "id": "d9ffe8c5-eb2f-4ad1-af76-a46550e4c7ac",
   "metadata": {},
   "source": [
    "## Import (1)\n",
    "\n",
    "Import your module here. This import should refer to the code in your package directory.\n",
    "\n",
    "- Module successuflly imported (1)."
   ]
  },
  {
   "cell_type": "code",
   "execution_count": 99,
   "id": "a05dffb3-e6d6-4f78-9df4-5abd0cf74ca9",
   "metadata": {
    "tags": []
   },
   "outputs": [],
   "source": [
    "import unittest\n",
    "import pandas as pd\n",
    "import numpy as np\n",
    "import matplotlib.pyplot as plt\n",
    "from montecarlo import Die, Game, Analyzer\n",
    "import itertools"
   ]
  },
  {
   "cell_type": "markdown",
   "id": "f30c4842-65b1-4556-98b6-3fe1a07e1371",
   "metadata": {},
   "source": [
    "## Help Docs (4)\n",
    "\n",
    "Show your docstring documentation by applying `help()` to your imported module.\n",
    "\n",
    "- All methods have a docstring (3; .25 each).\n",
    "- All classes have a docstring (1; .33 each)."
   ]
  },
  {
   "cell_type": "code",
   "execution_count": 100,
   "id": "bf4fbf1f-9885-471c-a0a6-e9ca90e160de",
   "metadata": {
    "tags": []
   },
   "outputs": [
    {
     "name": "stdout",
     "output_type": "stream",
     "text": [
      "Help on class Die in module montecarlo:\n",
      "\n",
      "class Die(builtins.object)\n",
      " |  Die(faces)\n",
      " |  \n",
      " |  A class representing a single die with multiple faces and associated weights.\n",
      " |  \n",
      " |  Attributes:\n",
      " |  -----------\n",
      " |  die : pandas.DataFrame\n",
      " |      A dataframe holding the faces and weights of the die.\n",
      " |  \n",
      " |  Methods defined here:\n",
      " |  \n",
      " |  __init__(self, faces)\n",
      " |      Initialize the Die with a list or numpy array of unique faces.\n",
      " |      All weights are initialized to 1.0 by default.\n",
      " |      \n",
      " |      Parameters\n",
      " |      ----------\n",
      " |      faces : list or numpy.ndarray\n",
      " |          An array of unique face values for the die.\n",
      " |      \n",
      " |      Raises\n",
      " |      ------\n",
      " |      TypeError\n",
      " |          If faces is not a list or numpy array.\n",
      " |      ValueError\n",
      " |          If face values are not unique.\n",
      " |  \n",
      " |  change_weight(self, face, new_weight)\n",
      " |      Change the weight of a specific face of the die.\n",
      " |      \n",
      " |      Parameters\n",
      " |      ----------\n",
      " |      face : any\n",
      " |          The face whose weight is to be changed.\n",
      " |      new_weight : float or int\n",
      " |          The new weight value; must be numeric and non-negative.\n",
      " |      \n",
      " |      Raises\n",
      " |      ------\n",
      " |      ValueError\n",
      " |          If the face does not exist in the die.\n",
      " |      TypeError\n",
      " |          If new_weight is not numeric.\n",
      " |  \n",
      " |  roll(self, num_rolls=1)\n",
      " |      Simulate rolling the die a given number of times.\n",
      " |      \n",
      " |      Parameters\n",
      " |      ----------\n",
      " |      num_rolls : int, optional\n",
      " |          The number of times to roll the die (default is 1).\n",
      " |      \n",
      " |      Returns\n",
      " |      -------\n",
      " |      numpy.ndarray\n",
      " |          An array of face values resulting from the rolls.\n",
      " |  \n",
      " |  show_state(self)\n",
      " |      Display the current state of the die including faces and weights.\n",
      " |      \n",
      " |      Returns\n",
      " |      -------\n",
      " |      pandas.DataFrame\n",
      " |          A DataFrame showing the current faces and corresponding weights.\n",
      " |  \n",
      " |  ----------------------------------------------------------------------\n",
      " |  Data descriptors defined here:\n",
      " |  \n",
      " |  __dict__\n",
      " |      dictionary for instance variables (if defined)\n",
      " |  \n",
      " |  __weakref__\n",
      " |      list of weak references to the object (if defined)\n",
      "\n",
      "Help on class Game in module montecarlo:\n",
      "\n",
      "class Game(builtins.object)\n",
      " |  Game(dice)\n",
      " |  \n",
      " |  A class representing a game consisting of one or more dice of the same kind.\n",
      " |  \n",
      " |  Attributes\n",
      " |  ----------\n",
      " |  dice : list of Die\n",
      " |      A list containing Die objects used in the game.\n",
      " |  results : pandas.DataFrame or None\n",
      " |      DataFrame storing results from the most recent play. Initialized as None.\n",
      " |  \n",
      " |  Methods defined here:\n",
      " |  \n",
      " |  __init__(self, dice)\n",
      " |      Initialize the Game with a list of Die objects.\n",
      " |      \n",
      " |      Parameters\n",
      " |      ----------\n",
      " |      dice : list\n",
      " |          A list containing instances of the Die class.\n",
      " |      \n",
      " |      Raises\n",
      " |      ------\n",
      " |      TypeError\n",
      " |          If any object in the list is not an instance of Die.\n",
      " |  \n",
      " |  play(self, num_rolls)\n",
      " |      Play the game by rolling all dice a specified number of times.\n",
      " |      \n",
      " |      Parameters\n",
      " |      ----------\n",
      " |      num_rolls : int\n",
      " |          The number of times to roll the dice.\n",
      " |      \n",
      " |      Returns\n",
      " |      -------\n",
      " |      None\n",
      " |          Results are stored in the 'results' attribute as a DataFrame.\n",
      " |  \n",
      " |  show_results(self, form='wide')\n",
      " |      Show the results of the most recent play.\n",
      " |      \n",
      " |      Parameters\n",
      " |      ----------\n",
      " |      form : str, optional\n",
      " |          Format of the output: 'wide' (default) for wide format,\n",
      " |          'narrow' for long format.\n",
      " |      \n",
      " |      Returns\n",
      " |      -------\n",
      " |      pandas.DataFrame\n",
      " |          A DataFrame of the play results in the specified format.\n",
      " |      \n",
      " |      Raises\n",
      " |      ------\n",
      " |      ValueError\n",
      " |          If form is not 'wide' or 'narrow'.\n",
      " |  \n",
      " |  ----------------------------------------------------------------------\n",
      " |  Data descriptors defined here:\n",
      " |  \n",
      " |  __dict__\n",
      " |      dictionary for instance variables (if defined)\n",
      " |  \n",
      " |  __weakref__\n",
      " |      list of weak references to the object (if defined)\n",
      "\n",
      "Help on class Analyzer in module montecarlo:\n",
      "\n",
      "class Analyzer(builtins.object)\n",
      " |  Analyzer(game)\n",
      " |  \n",
      " |  A class to analyze results of a Game instance.\n",
      " |  \n",
      " |  Attributes\n",
      " |  ----------\n",
      " |  game : Game\n",
      " |      The Game object containing dice and results.\n",
      " |  results : pandas.DataFrame\n",
      " |      DataFrame storing the results of the game (faces rolled per die per roll).\n",
      " |  \n",
      " |  Methods defined here:\n",
      " |  \n",
      " |  __init__(self, game)\n",
      " |      Initialize the Analyzer with a Game instance.\n",
      " |      \n",
      " |      Parameters\n",
      " |      ----------\n",
      " |      game : Game\n",
      " |          The game instance whose results will be analyzed.\n",
      " |      \n",
      " |      Raises\n",
      " |      ------\n",
      " |      TypeError\n",
      " |          If the provided object is not an instance of Game.\n",
      " |  \n",
      " |  combo(self)\n",
      " |      Compute and return distinct combinations of faces rolled, along with their frequencies.\n",
      " |      \n",
      " |      Returns\n",
      " |      -------\n",
      " |      pandas.DataFrame\n",
      " |          DataFrame with columns 'combination' (a sorted tuple of faces) and 'count'.\n",
      " |          Each row represents a unique combination of faces and how often it occurred.\n",
      " |  \n",
      " |  face_counts_per_roll(self)\n",
      " |      Count the number of times each face appears per roll.\n",
      " |      \n",
      " |      Returns\n",
      " |      -------\n",
      " |      pandas.DataFrame\n",
      " |          A DataFrame where each row corresponds to a roll and each column is a face.\n",
      " |          The cell values indicate how many times that face appeared in the roll.\n",
      " |  \n",
      " |  jackpot(self)\n",
      " |      Compute the number of jackpots, i.e., rolls where all dice show the same face.\n",
      " |      \n",
      " |      Returns\n",
      " |      -------\n",
      " |      int\n",
      " |          The count of jackpots found in the game results.\n",
      " |  \n",
      " |  permutation_count(self)\n",
      " |      Compute how many times each face appears in each roll, preserving face order.\n",
      " |      \n",
      " |      Returns\n",
      " |      -------\n",
      " |      pandas.DataFrame\n",
      " |          DataFrame where each row represents a roll and each column is a face value.\n",
      " |          The cell values show how many times the face appeared in that roll.\n",
      " |  \n",
      " |  ----------------------------------------------------------------------\n",
      " |  Data descriptors defined here:\n",
      " |  \n",
      " |  __dict__\n",
      " |      dictionary for instance variables (if defined)\n",
      " |  \n",
      " |  __weakref__\n",
      " |      list of weak references to the object (if defined)\n",
      "\n"
     ]
    }
   ],
   "source": [
    "help(Die)\n",
    "help(Game)\n",
    "help(Analyzer)"
   ]
  },
  {
   "cell_type": "markdown",
   "id": "a9defa84-b395-4966-bd1c-5c6c2bb7ed68",
   "metadata": {},
   "source": [
    "## `README.md` File (3)\n",
    "\n",
    "Provide link to the README.md file of your project's repo.\n",
    "\n",
    "- Metadata section or info present (1).\n",
    "- Synopsis section showing how each class is called (1). (All must be included.)\n",
    "- API section listing all classes and methods (1). (All must be included.)"
   ]
  },
  {
   "cell_type": "markdown",
   "id": "ee090b33-d593-48a0-bf35-e739cea0942c",
   "metadata": {},
   "source": [
    "URL: https://github.com/D-Kasole/Monte-Carlo-Module-/blob/main/README.md"
   ]
  },
  {
   "cell_type": "markdown",
   "id": "108604c8-8827-42ef-ab59-6b25428fc0ca",
   "metadata": {},
   "source": [
    "## Successful installation (2)\n",
    "\n",
    "Put a screenshot or paste a copy of a terminal session where you successfully install your module with pip.\n",
    "\n",
    "If pasting text, use a preformatted text block to show the results.\n",
    "\n",
    "- Installed with `pip` (1).\n",
    "- Successfully installed message appears (1)."
   ]
  },
  {
   "cell_type": "raw",
   "id": "1278db6a-aa53-4e5c-a749-93a87ab239e0",
   "metadata": {},
   "source": [
    "```\n",
    "bash-4.4$pip install .\n",
    "Defaulting to user installation because normal site-packages is not writeable\n",
    "Processing /sfs/gpfs/tardis/home/xbw8de/Documents/MSDS/DS5100/DS5100-xbw8de/lessons/M14/Monte-Carlo-Module-\n",
    "  Preparing metadata (setup.py) ... done\n",
    "Requirement already satisfied: numpy>=1.11.1 in /apps/software/standard/core/jupyterlab/3.6.3-py3.11/lib/python3.11/site-packages (from montecarlo==1.0.0) (1.24.4)\n",
    "Requirement already satisfied: matplotlib>=1.5.1 in /apps/software/standard/core/jupyterlab/3.6.3-py3.11/lib/python3.11/site-packages (from montecarlo==1.0.0) (3.7.2)\n",
    "Requirement already satisfied: contourpy>=1.0.1 in /apps/software/standard/core/jupyterlab/3.6.3-py3.11/lib/python3.11/site-packages (from matplotlib>=1.5.1->montecarlo==1.0.0) (1.1.0)\n",
    "Requirement already satisfied: cycler>=0.10 in /apps/software/standard/core/jupyterlab/3.6.3-py3.11/lib/python3.11/site-packages (from matplotlib>=1.5.1->montecarlo==1.0.0) (0.11.0)\n",
    "Requirement already satisfied: fonttools>=4.22.0 in /apps/software/standard/core/jupyterlab/3.6.3-py3.11/lib/python3.11/site-packages (from matplotlib>=1.5.1->montecarlo==1.0.0) (4.42.1)\n",
    "Requirement already satisfied: kiwisolver>=1.0.1 in /apps/software/standard/core/jupyterlab/3.6.3-py3.11/lib/python3.11/site-packages (from matplotlib>=1.5.1->montecarlo==1.0.0) (1.4.5)\n",
    "Requirement already satisfied: packaging>=20.0 in /apps/software/standard/core/jupyterlab/3.6.3-py3.11/lib/python3.11/site-packages (from matplotlib>=1.5.1->montecarlo==1.0.0) (23.1)\n",
    "Requirement already satisfied: pillow>=6.2.0 in /apps/software/standard/core/jupyterlab/3.6.3-py3.11/lib/python3.11/site-packages (from matplotlib>=1.5.1->montecarlo==1.0.0) (9.5.0)\n",
    "Requirement already satisfied: pyparsing<3.1,>=2.3.1 in /apps/software/standard/core/jupyterlab/3.6.3-py3.11/lib/python3.11/site-packages (from matplotlib>=1.5.1->montecarlo==1.0.0) (3.0.9)\n",
    "Requirement already satisfied: python-dateutil>=2.7 in /apps/software/standard/core/jupyterlab/3.6.3-py3.11/lib/python3.11/site-packages (from matplotlib>=1.5.1->montecarlo==1.0.0) (2.8.2)\n",
    "Requirement already satisfied: six>=1.5 in /apps/software/standard/core/jupyterlab/3.6.3-py3.11/lib/python3.11/site-packages (from python-dateutil>=2.7->matplotlib>=1.5.1->montecarlo==1.0.0) (1.16.0)\n",
    "Building wheels for collected packages: montecarlo\n",
    "  Building wheel for montecarlo (setup.py) ... done\n",
    "  Created wheel for montecarlo: filename=montecarlo-1.0.0-py3-none-any.whl size=2083 sha256=ec333370c9b293612381168fc5f5b04a365fab75ae164e5874e1ae857fedf516\n",
    "  Stored in directory: /sfs/gpfs/tardis/home/xbw8de/.cache/pip/wheels/47/c8/15/4dc49b53fc11715ab401a901e3686bb0fb0948d1f4d24606f0\n",
    "Successfully built montecarlo\n",
    "Installing collected packages: montecarlo\n",
    "Successfully installed montecarlo-1.0.0\n",
    "bash-4.4$\n",
    "```"
   ]
  },
  {
   "cell_type": "markdown",
   "id": "7c44695d-d1b3-4edf-9f94-e64d7446f199",
   "metadata": {},
   "source": [
    "# Scenarios\n",
    "\n",
    "Use code blocks to perform the tasks for each scenario.\n",
    "\n",
    "Be sure the outputs are visible before submitting."
   ]
  },
  {
   "cell_type": "markdown",
   "id": "e2479eae-6fc9-44cd-b8d7-9b22cb501f2a",
   "metadata": {
    "tags": []
   },
   "source": [
    "## Scenario 1: A 2-headed Coin (9)\n",
    "\n",
    "Task 1. Create a fair coin (with faces $H$ and $T$) and one unfair coin in which one of the faces has a weight of $5$ and the others $1$.\n",
    "\n",
    "- Fair coin created (1).\n",
    "- Unfair coin created with weight as specified (1)."
   ]
  },
  {
   "cell_type": "code",
   "execution_count": 101,
   "id": "55ce498e-c75f-4425-9e3e-b635bd6cd9e1",
   "metadata": {},
   "outputs": [
    {
     "name": "stdout",
     "output_type": "stream",
     "text": [
      "Fair Coin State:\n",
      "   face  weight\n",
      "0    H     1.0\n",
      "1    T     1.0\n",
      "Unfair Coin State:\n",
      "   face  weight\n",
      "0    H     5.0\n",
      "1    T     1.0\n"
     ]
    }
   ],
   "source": [
    "fair_coin = Die(['H', 'T'])\n",
    "\n",
    "unfair_coin = Die(['H', 'T'])\n",
    "unfair_coin.change_weight('H', 5)\n",
    "\n",
    "print(\"Fair Coin State:\\n\", fair_coin.show_state())\n",
    "print(\"Unfair Coin State:\\n\", unfair_coin.show_state())\n"
   ]
  },
  {
   "cell_type": "markdown",
   "id": "02b272ab-99da-4b6e-ac2a-555b73e09c07",
   "metadata": {},
   "source": [
    "Task 2. Play a game of $1000$ flips with two fair dice.\n",
    "\n",
    "- Play method called correclty and without error (1)."
   ]
  },
  {
   "cell_type": "code",
   "execution_count": 102,
   "id": "65c92601-d32d-4326-b215-74953aee27f2",
   "metadata": {},
   "outputs": [
    {
     "name": "stdout",
     "output_type": "stream",
     "text": [
      "Fair Game Result (First 5 Rows):\n",
      "              0  1\n",
      "roll_number      \n",
      "0            T  H\n",
      "1            T  T\n",
      "2            T  T\n",
      "3            H  T\n",
      "4            H  H\n"
     ]
    }
   ],
   "source": [
    "game_fair = Game([fair_coin, fair_coin])\n",
    "game_fair.play(1000)\n",
    "\n",
    "print(\"Fair Game Result (First 5 Rows):\\n\", game_fair.show_results().head())"
   ]
  },
  {
   "cell_type": "markdown",
   "id": "7d9c3dc8-22c1-4cae-81fb-d68d774a05d1",
   "metadata": {},
   "source": [
    "Task 3. Play another game (using a new Game object) of $1000$ flips, this time using two unfair dice and one fair die. For the second unfair die, you can use the same die object twice in the list of dice you pass to the Game object.\n",
    "\n",
    "- New game object created (1).\n",
    "- Play method called correclty and without error (1)."
   ]
  },
  {
   "cell_type": "code",
   "execution_count": 103,
   "id": "d4098bed-1eb2-4084-8d5e-9fda07c3be43",
   "metadata": {},
   "outputs": [
    {
     "name": "stdout",
     "output_type": "stream",
     "text": [
      "Mixed Game Result (First 5 Rows):\n",
      "              0  1  2\n",
      "roll_number         \n",
      "0            H  T  T\n",
      "1            H  H  H\n",
      "2            H  H  H\n",
      "3            H  H  H\n",
      "4            H  H  T\n"
     ]
    }
   ],
   "source": [
    "game_mixed = Game([unfair_coin, unfair_coin, fair_coin])\n",
    "game_mixed.play(1000)\n",
    "\n",
    "print(\"Mixed Game Result (First 5 Rows):\\n\", game_mixed.show_results().head())"
   ]
  },
  {
   "cell_type": "markdown",
   "id": "f690ebfc-fe71-4eb2-976d-7ac80ca6c23f",
   "metadata": {},
   "source": [
    "Task 4. For each game, use an Analyzer object to determine the raw frequency of jackpots — i.e. getting either all $H$s or all $T$s.\n",
    "\n",
    "- Analyzer objecs instantiated for both games (1).\n",
    "- Raw frequencies reported for both (1)."
   ]
  },
  {
   "cell_type": "code",
   "execution_count": 104,
   "id": "b26b8b7e-3be7-4476-a9a4-37d97536729e",
   "metadata": {},
   "outputs": [
    {
     "name": "stdout",
     "output_type": "stream",
     "text": [
      "Jackpots (Fair): 481\n",
      "Jackpots (Mixed): 395\n"
     ]
    }
   ],
   "source": [
    "analyzer_fair = Analyzer(game_fair)\n",
    "jackpots_fair = analyzer_fair.jackpot()\n",
    "\n",
    "analyzer_mixed = Analyzer(game_mixed)\n",
    "jackpots_mixed = analyzer_mixed.jackpot()\n",
    "\n",
    "print(\"Jackpots (Fair):\", jackpots_fair)\n",
    "print(\"Jackpots (Mixed):\", jackpots_mixed)"
   ]
  },
  {
   "cell_type": "markdown",
   "id": "b73d233c-445e-40cd-8858-0c5e1f097105",
   "metadata": {},
   "source": [
    "Task 5. For each analyzer, compute relative frequency as the number of jackpots over the total number of rolls.\n",
    "\n",
    "- Both relative frequencies computed (1)."
   ]
  },
  {
   "cell_type": "code",
   "execution_count": 105,
   "id": "9a96b31b-1b9d-496e-be3e-4bf83c45ec3a",
   "metadata": {},
   "outputs": [
    {
     "name": "stdout",
     "output_type": "stream",
     "text": [
      "Relative Jackpot Frequency (Fair): 0.481\n",
      "Relative Jackpot Frequency (Mixed): 0.395\n"
     ]
    }
   ],
   "source": [
    "relative_fair = jackpots_fair / 1000\n",
    "relative_mixed = jackpots_mixed / 1000\n",
    "\n",
    "print(\"Relative Jackpot Frequency (Fair):\", relative_fair)\n",
    "print(\"Relative Jackpot Frequency (Mixed):\", relative_mixed)"
   ]
  },
  {
   "cell_type": "markdown",
   "id": "a6e1e734-7f5c-4721-8ba4-2f3a424cf984",
   "metadata": {},
   "source": [
    "Task 6. Show your results, comparing the two relative frequencies, in a simple bar chart.\n",
    "\n",
    "- Bar chart plotted and correct (1)."
   ]
  },
  {
   "cell_type": "code",
   "execution_count": 106,
   "id": "473fa67c-aa53-4aa3-a0b7-e8772b3f6ed3",
   "metadata": {},
   "outputs": [
    {
     "data": {
      "image/png": "[encoded data removed]",
      "text/plain": [
       "<Figure size 640x480 with 1 Axes>"
      ]
     },
     "metadata": {},
     "output_type": "display_data"
    }
   ],
   "source": [
    "labels = ['Fair Coins', 'Unfair + Fair Coins']\n",
    "values = [relative_fair, relative_mixed]\n",
    "\n",
    "plt.bar(labels, values, color=['blue', 'orange'])\n",
    "plt.ylabel('Relative Frequency of Jackpots')\n",
    "plt.title('Jackpot Comparison: Fair vs Mixed Coins')\n",
    "plt.show()"
   ]
  },
  {
   "cell_type": "markdown",
   "id": "725cfa5b-e4b7-47c9-86aa-8d9e1fe6c8c7",
   "metadata": {},
   "source": [
    "## Scenario 2: A 6-sided Die (9)\n",
    "\n",
    "Task 1. Create three dice, each with six sides having the faces 1 through 6.\n",
    "\n",
    "- Three die objects created (1)."
   ]
  },
  {
   "cell_type": "code",
   "execution_count": 107,
   "id": "6a8bc611-325a-4e05-88d5-980e0a2cf7c5",
   "metadata": {},
   "outputs": [
    {
     "name": "stdout",
     "output_type": "stream",
     "text": [
      "   face  weight\n",
      "0     1     1.0\n",
      "1     2     1.0\n",
      "2     3     1.0\n",
      "3     4     1.0\n",
      "4     5     1.0\n",
      "5     6     1.0\n",
      "   face  weight\n",
      "0     1     1.0\n",
      "1     2     1.0\n",
      "2     3     1.0\n",
      "3     4     1.0\n",
      "4     5     1.0\n",
      "5     6     1.0\n",
      "   face  weight\n",
      "0     1     1.0\n",
      "1     2     1.0\n",
      "2     3     1.0\n",
      "3     4     1.0\n",
      "4     5     1.0\n",
      "5     6     1.0\n"
     ]
    }
   ],
   "source": [
    "faces = [1, 2, 3, 4, 5, 6]\n",
    "die1 = Die(faces)\n",
    "die2 = Die(faces)\n",
    "die3 = Die(faces)\n",
    "\n",
    "print(die1.show_state())\n",
    "print(die2.show_state())\n",
    "print(die3.show_state())"
   ]
  },
  {
   "cell_type": "markdown",
   "id": "2ed3ad26-fbe9-43bd-9ad7-f683a4191d12",
   "metadata": {},
   "source": [
    "Task 2. Convert one of the dice to an unfair one by weighting the face $6$ five times more than the other weights (i.e. it has weight of 5 and the others a weight of 1 each).\n",
    "\n",
    "- Unfair die created with proper call to weight change method (1)."
   ]
  },
  {
   "cell_type": "code",
   "execution_count": 108,
   "id": "e33dd18f-7f90-456d-a680-61c08a328e21",
   "metadata": {},
   "outputs": [
    {
     "name": "stdout",
     "output_type": "stream",
     "text": [
      "   face  weight\n",
      "0     1     1.0\n",
      "1     2     1.0\n",
      "2     3     1.0\n",
      "3     4     1.0\n",
      "4     5     1.0\n",
      "5     6     5.0\n"
     ]
    }
   ],
   "source": [
    "weights = [1, 1, 1, 1, 1, 5]\n",
    "die1.change_weight(6, 5)\n",
    "\n",
    "print(die1.show_state())"
   ]
  },
  {
   "cell_type": "markdown",
   "id": "7f6c062a-4c5b-45b9-96b8-76a0354c7e47",
   "metadata": {},
   "source": [
    "Task 3. Convert another of the dice to be unfair by weighting the face $1$ five times more than the others.\n",
    "\n",
    "- Unfair die created with proper call to weight change method (1)."
   ]
  },
  {
   "cell_type": "code",
   "execution_count": 109,
   "id": "01133a4e-6b06-4246-8d90-8e6d6995be51",
   "metadata": {},
   "outputs": [
    {
     "name": "stdout",
     "output_type": "stream",
     "text": [
      "   face  weight\n",
      "0     1     5.0\n",
      "1     2     1.0\n",
      "2     3     1.0\n",
      "3     4     1.0\n",
      "4     5     1.0\n",
      "5     6     1.0\n"
     ]
    }
   ],
   "source": [
    "die2.change_weight(1, 5)\n",
    "\n",
    "print(die2.show_state())"
   ]
  },
  {
   "cell_type": "markdown",
   "id": "f0ed31cb-0a3c-4eb2-b85e-6ed6b2eb6e58",
   "metadata": {},
   "source": [
    "Task 4. Play a game of $10000$ rolls with $5$ fair dice.\n",
    "\n",
    "- Game class properly instantiated (1). \n",
    "- Play method called properly (1)."
   ]
  },
  {
   "cell_type": "code",
   "execution_count": 110,
   "id": "e92395a4-9ed8-4cb0-8c85-38768a784ffc",
   "metadata": {},
   "outputs": [
    {
     "name": "stdout",
     "output_type": "stream",
     "text": [
      "             0  1  2  3  4\n",
      "roll_number               \n",
      "0            1  6  2  1  3\n",
      "1            2  5  4  1  3\n",
      "2            3  1  4  3  1\n",
      "3            1  1  6  6  3\n",
      "4            3  2  5  4  2\n",
      "...         .. .. .. .. ..\n",
      "9995         5  2  2  3  5\n",
      "9996         6  3  2  3  1\n",
      "9997         6  1  1  5  5\n",
      "9998         1  1  1  1  3\n",
      "9999         1  5  2  3  3\n",
      "\n",
      "[10000 rows x 5 columns]\n"
     ]
    }
   ],
   "source": [
    "fair_dice = [Die(faces) for _ in range(5)]\n",
    "\n",
    "game_fair = Game(fair_dice)\n",
    "game_fair.play(10000)\n",
    "\n",
    "print(game_fair.show_results())"
   ]
  },
  {
   "cell_type": "markdown",
   "id": "7814b402-46a4-40e5-8141-20e05c3e646b",
   "metadata": {},
   "source": [
    "Task 5. Play another game of $10000$ rolls, this time with $2$ unfair dice, one as defined in steps #2 and #3 respectively, and $3$ fair dice.\n",
    "\n",
    "- Game class properly instantiated (1). \n",
    "- Play method called properly (1)."
   ]
  },
  {
   "cell_type": "code",
   "execution_count": 111,
   "id": "7cd58fba-b2a5-4d5d-bc6d-2a7a68d18c4f",
   "metadata": {},
   "outputs": [
    {
     "name": "stdout",
     "output_type": "stream",
     "text": [
      "             0  1  2  3  4\n",
      "roll_number               \n",
      "0            2  1  3  5  5\n",
      "1            6  1  4  1  2\n",
      "2            6  2  6  1  4\n",
      "3            2  3  5  2  2\n",
      "4            5  2  5  6  5\n",
      "...         .. .. .. .. ..\n",
      "9995         6  2  6  2  5\n",
      "9996         4  2  2  1  2\n",
      "9997         6  1  5  2  6\n",
      "9998         6  1  2  1  3\n",
      "9999         6  1  1  1  1\n",
      "\n",
      "[10000 rows x 5 columns]\n"
     ]
    }
   ],
   "source": [
    "mixed_dice = [die1, die2] + [Die(faces) for _ in range(3)]\n",
    "\n",
    "game_mixed = Game(mixed_dice)\n",
    "game_mixed.play(10000)\n",
    "\n",
    "print(game_mixed.show_results())"
   ]
  },
  {
   "cell_type": "markdown",
   "id": "7b6cd372-2bb8-4df8-ade1-8f48bc300955",
   "metadata": {},
   "source": [
    "Task 6. For each game, use an Analyzer object to determine the relative frequency of jackpots and show your results, comparing the two relative frequencies, in a simple bar chart.\n",
    "\n",
    "- Jackpot methods called (1).\n",
    "- Graph produced (1)."
   ]
  },
  {
   "cell_type": "code",
   "execution_count": 112,
   "id": "bbdcf695-8937-406e-9b53-aa0b9ee3c59a",
   "metadata": {},
   "outputs": [
    {
     "name": "stdout",
     "output_type": "stream",
     "text": [
      "Relative Frequency (Fair Dice Game): 0.0011\n",
      "Relative Frequency (Mixed Dice Game): 0.0007\n"
     ]
    },
    {
     "data": {
      "image/png": "[encoded data removed]",
      "text/plain": [
       "<Figure size 640x480 with 1 Axes>"
      ]
     },
     "metadata": {},
     "output_type": "display_data"
    }
   ],
   "source": [
    "analyzer_fair = Analyzer(game_fair)\n",
    "analyzer_mixed = Analyzer(game_mixed)\n",
    "\n",
    "jackpots_fair = analyzer_fair.jackpot()\n",
    "jackpots_mixed = analyzer_mixed.jackpot()\n",
    "\n",
    "\n",
    "rel_freq_fair = jackpots_fair / 10000\n",
    "rel_freq_mixed = jackpots_mixed / 10000\n",
    "\n",
    "print(f\"Relative Frequency (Fair Dice Game): {rel_freq_fair}\")\n",
    "print(f\"Relative Frequency (Mixed Dice Game): {rel_freq_mixed}\")\n",
    "\n",
    "labels = ['Fair Dice Game', 'Mixed Dice Game']\n",
    "frequencies = [rel_freq_fair, rel_freq_mixed]\n",
    "\n",
    "plt.bar(labels, frequencies, color=['lightgreen', 'coral'])\n",
    "plt.title('Relative Frequency of Jackpots (6-sided Dice)')\n",
    "plt.ylabel('Relative Frequency')\n",
    "plt.show()\n"
   ]
  },
  {
   "cell_type": "markdown",
   "id": "9f04e9be-8fcf-4ea4-a391-6614608285f8",
   "metadata": {},
   "source": [
    "## Scenario 3: Letters of the Alphabet (7)\n",
    "\n",
    "Task 1. Create a \"die\" of letters from $A$ to $Z$ with weights based on their frequency of usage as found in the data file `english_letters.txt`. Use the frequencies (i.e. raw counts) as weights.\n",
    "\n",
    "- Die correctly instantiated with source file data (1).\n",
    "- Weights properly applied using weight setting method (1)."
   ]
  },
  {
   "cell_type": "code",
   "execution_count": 113,
   "id": "b0ceb771-3cdf-4d8f-8c2c-020806bbb909",
   "metadata": {},
   "outputs": [
    {
     "name": "stdout",
     "output_type": "stream",
     "text": [
      "   face       weight\n",
      "0     E  529117365.0\n",
      "1     T  390965105.0\n",
      "2     A  374061888.0\n",
      "3     O  326627740.0\n",
      "4     I  320410057.0\n",
      "5     N  313720540.0\n",
      "6     S  294300210.0\n",
      "7     R  277000841.0\n",
      "8     H  216768975.0\n",
      "9     L  183996130.0\n",
      "10    D  169330528.0\n",
      "11    C  138416451.0\n",
      "12    U  117295780.0\n",
      "13    M  110504544.0\n",
      "14    F   95422055.0\n",
      "15    G   91258980.0\n",
      "16    P   90376747.0\n",
      "17    W   79843664.0\n",
      "18    Y   75294515.0\n",
      "19    B   70195826.0\n",
      "20    V   46337161.0\n",
      "21    K   35373464.0\n",
      "22    J    9613410.0\n",
      "23    X    8369915.0\n",
      "24    Z    4975847.0\n",
      "25    Q    4550166.0\n"
     ]
    }
   ],
   "source": [
    "letter_data = pd.read_csv('english_letters.txt', delim_whitespace=True, header=None, names=['letter', 'weight'])\n",
    "\n",
    "letters_die = Die(letter_data['letter'].tolist())\n",
    "\n",
    "for _, row in letter_data.iterrows():\n",
    "    letters_die.change_weight(row['letter'], row['weight'])\n",
    "\n",
    "print(letters_die.show_state())\n"
   ]
  },
  {
   "cell_type": "markdown",
   "id": "88e2e14a-6223-470a-a2c8-bca1120d7a5b",
   "metadata": {},
   "source": [
    "Task 2. Play a game involving $4$ of these dice with $1000$ rolls.\n",
    "\n",
    "- Game play method properly called (1)."
   ]
  },
  {
   "cell_type": "code",
   "execution_count": 114,
   "id": "2ae087cc-936d-4f1e-bddb-a7c179d139e0",
   "metadata": {},
   "outputs": [
    {
     "name": "stdout",
     "output_type": "stream",
     "text": [
      "             0  1  2  3\n",
      "roll_number            \n",
      "0            C  M  N  G\n",
      "1            B  B  N  I\n",
      "2            A  C  A  K\n",
      "3            A  T  O  E\n",
      "4            T  E  T  I\n",
      "...         .. .. .. ..\n",
      "995          E  E  H  H\n",
      "996          O  H  W  E\n",
      "997          S  L  H  A\n",
      "998          O  U  I  H\n",
      "999          O  S  S  T\n",
      "\n",
      "[1000 rows x 4 columns]\n"
     ]
    }
   ],
   "source": [
    "letter_dice_4 = [letters_die] * 4\n",
    "\n",
    "game_letters_4 = Game(letter_dice_4)\n",
    "\n",
    "game_letters_4.play(1000)\n",
    "\n",
    "print(game_letters_4.show_results())"
   ]
  },
  {
   "cell_type": "markdown",
   "id": "3b9ff800-bf1f-4f66-9d7f-ff57a648e9f0",
   "metadata": {},
   "source": [
    "Task 3. Determine how many permutations in your results are actual English words, based on the vocabulary found in `scrabble_words.txt`.\n",
    "\n",
    "- Use permutation method (1).\n",
    "- Get count as difference between permutations and vocabulary (1)."
   ]
  },
  {
   "cell_type": "code",
   "execution_count": 115,
   "id": "ed1c7fa0-cfa3-4cf4-9fd0-9f84b86b0f64",
   "metadata": {},
   "outputs": [
    {
     "name": "stdout",
     "output_type": "stream",
     "text": [
      "Number of valid words with 4 dice: 491\n"
     ]
    }
   ],
   "source": [
    "with open('scrabble_words.txt') as f:\n",
    "    scrabble_words = set(word.strip().upper() for word in f)\n",
    "\n",
    "letter_dice_4 = [letters_die] * 4\n",
    "\n",
    "game_letters_4 = Game(letter_dice_4)\n",
    "\n",
    "game_letters_4.play(1000)\n",
    "\n",
    "analyzer_letters_4 = Analyzer(game_letters_4)\n",
    "\n",
    "valid_word_count = 0\n",
    "\n",
    "for row in analyzer_letters_4.results.itertuples(index=False):\n",
    "    # Generate all unique permutations of the roll (as tuples)\n",
    "    perms = set(itertools.permutations(row))\n",
    "    # Join each tuple into a string and check if it exists in Scrabble dictionary\n",
    "    for perm in perms:\n",
    "        word = ''.join(perm).upper()\n",
    "        if word in scrabble_words:\n",
    "            valid_word_count += 1\n",
    "            break  # Only count the roll once, even if multiple permutations are valid\n",
    "\n",
    "print(f\"Number of valid words with 4 dice: {valid_word_count}\")\n"
   ]
  },
  {
   "cell_type": "markdown",
   "id": "fcf068cf-381a-4b3e-ac3a-0510eb4dbdb0",
   "metadata": {},
   "source": [
    "Task 4. Repeat steps #2 and #3, this time with $5$ dice. How many actual words does this produce? Which produces more?\n",
    "\n",
    "- Successfully repreats steps (1).\n",
    "- Identifies parameter with most found words (1)."
   ]
  },
  {
   "cell_type": "code",
   "execution_count": 116,
   "id": "320ed201-8d56-494c-b339-ffc10e77724d",
   "metadata": {
    "tags": []
   },
   "outputs": [
    {
     "name": "stdout",
     "output_type": "stream",
     "text": [
      "Number of valid words with 4 dice: 491\n",
      "Number of valid words with 5 dice: 313\n",
      "4 dice produce more valid words.\n"
     ]
    }
   ],
   "source": [
    "letter_dice_5 = [letters_die] * 5\n",
    "\n",
    "game_letters_5 = Game(letter_dice_5)\n",
    "\n",
    "game_letters_5.play(1000)\n",
    "\n",
    "analyzer_letters_5 = Analyzer(game_letters_5)\n",
    "\n",
    "valid_word_count_5 = 0\n",
    "\n",
    "for row in analyzer_letters_5.results.itertuples(index=False):\n",
    "    # Generate all unique permutations of the roll (as tuples)\n",
    "    perms = set(itertools.permutations(row))\n",
    "    # Join each tuple into a string and check if it exists in Scrabble dictionary\n",
    "    for perm in perms:\n",
    "        word = ''.join(perm).upper()\n",
    "        if word in scrabble_words:\n",
    "            valid_word_count_5 += 1\n",
    "            break  # Only count the roll once, even if multiple permutations are valid\n",
    "\n",
    "print(f\"Number of valid words with 4 dice: {valid_word_count}\") \n",
    "print(f\"Number of valid words with 5 dice: {valid_word_count_5}\")\n",
    "\n",
    "if valid_word_count_5 > valid_word_count:\n",
    "    print(\"5 dice produce more valid words.\")\n",
    "elif valid_word_count_5 < valid_word_count:\n",
    "    print(\"4 dice produce more valid words.\")\n",
    "else:\n",
    "    print(\"Both produced the same number of valid words.\")"
   ]
  },
  {
   "cell_type": "code",
   "execution_count": null,
   "id": "6269bd81-ead1-4070-af7d-e229a7be4a07",
   "metadata": {},
   "outputs": [],
   "source": []
  }
 ],
 "metadata": {
  "kernelspec": {
   "display_name": "Python 3 (ipykernel)",
   "language": "python",
   "name": "python3"
  },
  "language_info": {
   "codemirror_mode": {
    "name": "ipython",
    "version": 3
   },
   "file_extension": ".py",
   "mimetype": "text/x-python",
   "name": "python",
   "nbconvert_exporter": "python",
   "pygments_lexer": "ipython3",
   "version": "3.11.4"
  },
  "toc-autonumbering": true,
  "widgets": {
   "application/vnd.jupyter.widget-state+json": {
    "state": {},
    "version_major": 2,
    "version_minor": 0
   }
  }
 },
 "nbformat": 4,
 "nbformat_minor": 5
}
